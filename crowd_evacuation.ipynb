{
  "nbformat": 4,
  "nbformat_minor": 0,
  "metadata": {
    "colab": {
      "name": "crowd_evacuation.ipynb",
      "provenance": [],
      "collapsed_sections": []
    },
    "kernelspec": {
      "name": "python3",
      "display_name": "Python 3"
    },
    "language_info": {
      "name": "python"
    }
  },
  "cells": [
    {
      "cell_type": "markdown",
      "source": [
        "#                           Crowd Evacuation in a floor"
      ],
      "metadata": {
        "id": "L9DdZ5OMIYEM"
      }
    },
    {
      "cell_type": "markdown",
      "source": [
        "## Problem statement:\n",
        "There is a floor which contains some exit doors and some number of people. Match a exit door for each person such that he/she can exit in minimum possible time.\n",
        "\n",
        "### Solution:\n",
        "We consider a floor virtually as a matrix of cells. And then locate those cells where people and exit doors are there. After getting the information(in which cell there is an exit door and in which cell there is a person), we can do exit-door matching to everybody using the following code."
      ],
      "metadata": {
        "id": "WuMtGCPDI1Vv"
      }
    },
    {
      "cell_type": "code",
      "source": [
        "import matplotlib.pyplot as plt\n",
        "from queue import PriorityQueue\n",
        "\n",
        "\n",
        "def match_doors(N,M,ppl_coor,exits_coor,blockages):\n",
        "\n",
        "    accessible = [1 for i in range(0,(N+1)*(M+1)+1)]\n",
        "    for i in blockages:\n",
        "        accessible[(i[0] - 1)*N + i[1]] = 0\n",
        "\n",
        "    print(\"O => Accessibile cell, X => Non-accessible cell\")\n",
        "    for i in range(1,N+1):\n",
        "        for j in range(1,M+1):\n",
        "            if(accessible[(i - 1)*N + j] == 1):\n",
        "                print(\"O\",end=\" \")\n",
        "            else:\n",
        "                print(\"X\",end=\" \")\n",
        "            # print(accessible[(i - 1)*N + j],end = \" \");\n",
        "        print()\n",
        "    print()\n",
        "\n",
        "    ppl_count = len(ppl_coor) #Count of people\n",
        "    exits_count = len(exits_coor) #Count of exit doors\n",
        "\n",
        "    pq = PriorityQueue() #Creating a min-priority queue\n",
        "\n",
        "    # Pushing (0,Ei_x,Ei_y) into the min-priority queue\n",
        "    for i in exits_coor:\n",
        "        temp = [0]\n",
        "        temp.append(i[1])\n",
        "        temp.append(i[2])\n",
        "        temp.append(i[0])\n",
        "        pq.put(temp)\n",
        "\n",
        "    # while(pq.empty() == False):\n",
        "    #     print(pq.get())\n",
        "\n",
        "    visited = [0 for i in range(0,(N+1)*(M+1)+1)]\n",
        "    for i in exits_coor:\n",
        "        visited[(i[1] - 1)*N + i[2]] = 1\n",
        "    # for i in range(1,N+1):\n",
        "    #     for j in range(1,M+1):\n",
        "    #         print(visited[(i - 1)*N + j],end=\" \")\n",
        "    #     print()\n",
        "    ans = [[1e18,\"NA\"] for i in range(0,(N+1)*(M+1)+1)]\n",
        "\n",
        "    count = 0\n",
        "\n",
        "    while(pq.empty() == False):\n",
        "        cur = pq.get()\n",
        "        dist = cur[0]\n",
        "        x = cur[1]\n",
        "        y = cur[2]\n",
        "        exit_door = cur[3]\n",
        "        # print(cur)\n",
        "        # for i in range(1,N+1):\n",
        "        #     for j in range(1,M+1):\n",
        "        #         print(visited[((i-1)*N)+j],end=\" \")\n",
        "        #     print()\n",
        "\n",
        "        ans[(x - 1)*N + y] = [dist,exit_door]\n",
        "\n",
        "        #top\n",
        "        n_x = x - 1; n_y = y\n",
        "        if((n_x >= 1) and (n_x <= N) and (n_y >= 1) and (n_y <= M) and (visited[((n_x - 1) * N)+n_y] == 0) and (accessible[((n_x - 1) * N)+n_y] == 1)):\n",
        "            pq.put([1+dist,n_x,n_y,exit_door])\n",
        "            visited[(n_x - 1)*N + n_y] = 1\n",
        "\n",
        "        #bottom\n",
        "        n_x = x + 1; n_y = y\n",
        "        if((n_x >= 1) and (n_x <= N) and (n_y >= 1) and (n_y <= M) and (visited[((n_x - 1) * N)+n_y] == 0) and (accessible[((n_x - 1) * N)+n_y] == 1)):\n",
        "            pq.put([1+dist,n_x,n_y,exit_door])\n",
        "            visited[(n_x - 1)*N + n_y] = 1\n",
        "\n",
        "        #left\n",
        "        n_x = x; n_y = y - 1\n",
        "        if((n_x >= 1) and (n_x <= N) and (n_y >= 1) and (n_y <= M) and (visited[((n_x - 1) * N)+n_y] == 0) and (accessible[((n_x - 1) * N)+n_y] == 1)):\n",
        "            pq.put([1+dist,n_x,n_y,exit_door])\n",
        "            visited[(n_x - 1)*N + n_y] = 1\n",
        "\n",
        "        #top\n",
        "        n_x = x; n_y = y + 1\n",
        "        if((n_x >= 1) and (n_x <= N) and (n_y >= 1) and (n_y <= M) and (visited[((n_x - 1) * N)+n_y] == 0) and (accessible[((n_x - 1) * N)+n_y] == 1)):\n",
        "            pq.put([1+dist,n_x,n_y,exit_door])\n",
        "            visited[(n_x - 1)*N + n_y] = 1\n",
        "\n",
        "        #top-right\n",
        "        n_x = x - 1; n_y = y + 1\n",
        "        if((n_x >= 1) and (n_x <= N) and (n_y >= 1) and (n_y <= M) and (visited[((n_x - 1) * N)+n_y] == 0) and (accessible[((n_x - 1) * N)+n_y] == 1)):\n",
        "            pq.put([1+dist,n_x,n_y,exit_door])\n",
        "            visited[(n_x - 1)*N + n_y] = 1\n",
        "        \n",
        "        #top-left\n",
        "        n_x = x - 1; n_y = y - 1\n",
        "        if((n_x >= 1) and (n_x <= N) and (n_y >= 1) and (n_y <= M) and (visited[((n_x - 1) * N)+n_y] == 0) and (accessible[((n_x - 1) * N)+n_y] == 1)):\n",
        "            pq.put([1+dist,n_x,n_y,exit_door])\n",
        "            visited[(n_x - 1)*N + n_y] = 1\n",
        "\n",
        "        #bottom-left\n",
        "        n_x = x + 1; n_y = y - 1\n",
        "        if((n_x >= 1) and (n_x <= N) and (n_y >= 1) and (n_y <= M) and (visited[((n_x - 1) * N)+n_y] == 0) and (accessible[((n_x - 1) * N)+n_y] == 1)):\n",
        "            pq.put([1+dist,n_x,n_y,exit_door])\n",
        "            visited[(n_x - 1)*N + n_y] = 1\n",
        "\n",
        "        #bottom-right\n",
        "        n_x = x + 1; n_y = y + 1\n",
        "        if((n_x >= 1) and (n_x <= N) and (n_y >= 1) and (n_y <= M) and (visited[((n_x - 1) * N)+n_y] == 0) and (accessible[((n_x - 1) * N)+n_y] == 1)):\n",
        "            pq.put([1+dist,n_x,n_y,exit_door])\n",
        "            visited[(n_x - 1)*N + n_y] = 1\n",
        "\n",
        "    # for i in range(1,N+1):\n",
        "    #     for j in range(1,M+1):\n",
        "    #         print(ans[((i-1)*N)+j],end = \"    \")\n",
        "    #     print()\n",
        "\n",
        "    print(\"Matching of exit doors to people:\")\n",
        "    for i in ppl_coor:\n",
        "        print(i[0],\"-->\",ans[(i[1] - 1)*N + i[2]][1],\" in \",ans[(i[1] - 1)*N + i[2]][0],\" units of time\")\n",
        "    return ans"
      ],
      "metadata": {
        "id": "z-Rr500TkvEO"
      },
      "execution_count": 20,
      "outputs": []
    },
    {
      "cell_type": "code",
      "source": [
        "N = 5 # No. of rows\n",
        "M = 6 # No. of columns\n",
        "\n",
        "# Case - 1 (Without blockages) Uncomment below three lines and comment the case-2's three lines\n",
        "# ppl_coor = [[\"p1\",3,2],[\"p2\",1,4],[\"p3\",4,1],[\"p4\",2,6],[\"p5\",5,4]] #Coordinates of people\n",
        "# exits_coor = [[\"E1\",1,1],[\"E2\",5,1],[\"E3\",1,6],[\"E4\",5,6]]  #Coordinates of exit doors\n",
        "# blockages = []\n",
        "\n",
        "# Case - 2 (With blockages) Uncomment below three lines and comment the case-1's three lines\n",
        "ppl_coor = [[\"p1\",3,2],[\"p2\",1,4],[\"p3\",4,1],[\"p4\",2,6],[\"p5\",5,4]] #Coordinates of people\n",
        "exits_coor = [[\"E1\",1,1],[\"E2\",5,1],[\"E3\",1,6],[\"E4\",5,6]]  #Coordinates of exit doors\n",
        "blockages = [[5,5],[4,5]]\n",
        "\n",
        "allotted_doors = match_doors(N,M,ppl_coor,exits_coor,blockages) # Calling the match_doors function which does matching of doors to people"
      ],
      "metadata": {
        "colab": {
          "base_uri": "https://localhost:8080/"
        },
        "id": "jZCLRDnhlege",
        "outputId": "7938be52-1bba-4e61-f61f-0f591aa4fc95"
      },
      "execution_count": 21,
      "outputs": [
        {
          "output_type": "stream",
          "name": "stdout",
          "text": [
            "O => Accessibile cell, X => Non-accessible cell\n",
            "O O O O O O \n",
            "O O O O O O \n",
            "O O O O O O \n",
            "O O O O X O \n",
            "O O O O X O \n",
            "\n",
            "Matching of exit doors to people:\n",
            "p1 --> E1  in  2  units of time\n",
            "p2 --> E3  in  2  units of time\n",
            "p3 --> E2  in  1  units of time\n",
            "p4 --> E3  in  1  units of time\n",
            "p5 --> E2  in  3  units of time\n"
          ]
        }
      ]
    },
    {
      "cell_type": "code",
      "source": [
        "# Statistics of exit-doors\n",
        "allotted_count = {}\n",
        "for i in exits_coor:\n",
        "    allotted_count[i[0]] = 0\n",
        "for i in ppl_coor:\n",
        "    allotted_count[allotted_doors[(i[1] - 1)*N + i[2]][1]] += 1\n",
        "\n",
        "x_axis = []\n",
        "for i in exits_coor:\n",
        "    x_axis.append(i[0])\n",
        "\n",
        "y_axis = []\n",
        "for i in x_axis:\n",
        "    y_axis.append(allotted_count[i])\n",
        "\n",
        "plt.plot(x_axis,y_axis)\n",
        "plt.xlabel('Exit doors')\n",
        "plt.ylabel('Count of people allotted')\n",
        "plt.title('People exits stats')\n",
        "plt.show()"
      ],
      "metadata": {
        "colab": {
          "base_uri": "https://localhost:8080/",
          "height": 295
        },
        "id": "Sqj1fACpZxc0",
        "outputId": "c66a503a-132e-46d9-aaee-a7574ad4fe61"
      },
      "execution_count": 22,
      "outputs": [
        {
          "output_type": "display_data",
          "data": {
            "text/plain": [
              "<Figure size 432x288 with 1 Axes>"
            ],
            "image/png": "[encoded data removed]"
          },
          "metadata": {
            "needs_background": "light"
          }
        }
      ]
    },
    {
      "cell_type": "code",
      "source": [
        "# Time taken by each person\n",
        "x_axis = []\n",
        "for i in ppl_coor:\n",
        "    x_axis.append(i[0])\n",
        "\n",
        "y_axis = []\n",
        "for i in ppl_coor:\n",
        "    y_axis.append(allotted_doors[(i[1] - 1)*N + i[2]][0])\n",
        "\n",
        "plt.plot(x_axis,y_axis)\n",
        "plt.xlabel('Persons')\n",
        "plt.ylabel('Time taken')\n",
        "plt.title('Time taken by each person')\n",
        "plt.show()"
      ],
      "metadata": {
        "colab": {
          "base_uri": "https://localhost:8080/",
          "height": 295
        },
        "id": "2-N8DrS6gw1N",
        "outputId": "b827b647-5c07-40e3-999a-0c188dc69862"
      },
      "execution_count": 23,
      "outputs": [
        {
          "output_type": "display_data",
          "data": {
            "text/plain": [
              "<Figure size 432x288 with 1 Axes>"
            ],
            "image/png": "[encoded data removed]"
          },
          "metadata": {
            "needs_background": "light"
          }
        }
      ]
    }
  ]
}